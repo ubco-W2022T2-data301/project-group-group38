{
"cells": [
  {
   "cell_type": "markdown",
   "metadata": {},
   "source": [
    "#Drake Snitynsky - Analysis 3"
   ]
  },
  {
   "cell_type": "markdown",
   "metadata": {},
   "source": [
    "## Research Question/Interests\r\n",
    "\r\n",
    "**when traveling to Hawaii is it better value to stay at a hotel or book a private Airbnb?**\r\n",
    "\r\n",
    "My research will assess if when traveling to Hawaii is it better value to stay at a hotel or book a private Airbnb? When my family goes for a vacation we have always stayed at a hotel resort. When we decide to go on our next holiday I am curious to try the Airbnb experience. I've noticed the uphill trend in booking a private vacation getaway rather than the typical hotel. I am going to compare costs per night to see which is better value."
   ]
  }
 ],
 "metadata": {},
 "nbformat": 4,
 "nbformat_minor": 2
}
