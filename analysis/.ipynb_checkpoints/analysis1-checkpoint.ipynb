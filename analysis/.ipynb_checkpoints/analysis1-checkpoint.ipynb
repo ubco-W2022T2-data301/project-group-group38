{
 "cells": [
  {
   "cell_type": "markdown",
   "metadata": {},
   "source": [
    "# Coleton Bilodeau"
   ]
  },
  {
   "cell_type": "markdown",
   "metadata": {},
   "source": [
    "## Research question/interests\n",
    "\n",
    "**Which Island in the Hawaiian islands has the lowest average price for an Airbnb rental?**\n",
    "\n",
    "I am interested in understanding what the most common factors are that create positive/negative reviews and how they impact the future bookings of the airbnb. I am particularly interested in a vacation destination and Hawaii is an excellent example of this. I am interested in a vacation destination as I am curious to know if owning a property and using airbnb is a potential form of passive income as well as an excellent getaway destination."
   ]
  },
  {
   "cell_type": "markdown",
   "metadata": {},
   "source": [
    "## Milestone 3 update to Research Question\n",
    "### What Hawaiian Island is the most affordable to rent a Private room through airbnb"
   ]
  },
  {
   "cell_type": "code",
   "execution_count": null,
   "metadata": {},
   "outputs": [],
   "source": []
  }
 ],
 "metadata": {
  "kernelspec": {
   "display_name": "Python 3 (ipykernel)",
   "language": "python",
   "name": "python3"
  },
  "language_info": {
   "codemirror_mode": {
    "name": "ipython",
    "version": 3
   },
   "file_extension": ".py",
   "mimetype": "text/x-python",
   "name": "python",
   "nbconvert_exporter": "python",
   "pygments_lexer": "ipython3",
   "version": "3.10.8"
  }
 },
 "nbformat": 4,
 "nbformat_minor": 4
}
