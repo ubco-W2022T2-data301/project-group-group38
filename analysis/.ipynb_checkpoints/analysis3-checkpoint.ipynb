{
"cells": [
  {
   "cell_type": "markdown",
   "metadata": {},
   "source": [
    "#Anton Cizmok"
   ]
  },
  {
   "cell_type": "markdown",
   "metadata": {},
   "source": [
    "## Research question/interests\r\n",
    "\r\n",
    "What calendar dates provide for the best experience in Hawaii? <-- Old question, New question: **What is the correlation between nights stayed and price paid during certain times of the year?**\r\n",
    "\r\n",
    "Similar to Coleton, I am interested in Hawaii as a vacation destination and plan on being a frequent traveler to the island. I am interested in what makes a good Airbnb versus a bad one, and to be able to create a dataset that can help me point my vacation planning in the right direction. A bunch of people I know also love to travel to Hawaii, so having an Airbnb guide on the best places to stay in the best locations and for the right reasons would be awesome to have as a tool in the future."
   ]
  }
 ],
 "metadata": {},
 "nbformat": 4,
 "nbformat_minor": 2
}
