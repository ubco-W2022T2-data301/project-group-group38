{
"cells": [
  {
   "cell_type": "markdown",
   "metadata": {},
   "source": [
    "#Anton Cizmok"
   ]
  },
  {
   "cell_type": "markdown",
   "metadata": {},
   "source": [
    "## Research question/interests\r\n",
    "\r\n",
    "What calendar dates provide for the best experience in Hawaii? <-- Old question, New question: **Which Island in the Hawaiian islands has the lowest average price for an Airbnb rental?**"
   ]
  }
 ],
 "metadata": {},
 "nbformat": 4,
 "nbformat_minor": 2
}
