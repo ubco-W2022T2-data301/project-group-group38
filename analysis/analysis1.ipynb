{
 "cells": [
  {
   "cell_type": "markdown",
   "metadata": {},
   "source": [
    "#Coleton Bilodeau"
   ]
  },
  {
   "cell_type": "markdown",
   "metadata": {},
   "source": [
    "## Research question/interests\r\n",
    "\r\n",
    "**Which Island in the Hawaiian islands has the lowest average price for an Airbnb rental?**"
    
    "I am interested in understanding what the most common factors are that create positive/negative reviews and how they impact the future bookings of the airbnb. I am particularly interested in a vacation destination and Hawaii is an excellent example of this. I am interested in a vacation destination as I am curious to know if owning a property and using airbnb is a potential form of passive income as well as an excellent getaway destination."
   ]
  }
 ],
 "metadata": {},
 "nbformat": 4,
 "nbformat_minor": 2
}
