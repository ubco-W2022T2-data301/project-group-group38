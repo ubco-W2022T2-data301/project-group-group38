{
 "cells": [
  {
   "cell_type": "markdown",
   "metadata": {},
   "source": [
    "# Anton Cizmok"
   ]
  },
  {
   "cell_type": "markdown",
   "metadata": {},
   "source": [
    "## Research question/interests\r\n",
    "\r\n",
    "What calendar dates provide for the best experience in Hawaii? <-- Old question, New question: **What is the correlation between nights stayed and price paid during certain times of the year?**"
   ]
  }
 ],
 "metadata": {},
 "nbformat": 4,
 "nbformat_minor": 2
}
