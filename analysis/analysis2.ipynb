{
"cells": [
  {
   "cell_type": "markdown",
   "metadata": {},
   "source": [
    "#Drake Snitynsky"
   ]
  },
  {
   "cell_type": "markdown",
   "metadata": {},
   "source": [
    "## Research question/interests\r\n",
    "\r\n",
    "Input <-- Old question, New question: **Input**"
   ]
  }
 ],
 "metadata": {},
 "nbformat": 4,
 "nbformat_minor": 2
}
