{
"cells": [
  {
   "cell_type": "markdown",
   "metadata": {},
   "source": [
    "**Does a dynamic pricing tool significantly increase the hosts' listings power?**"
   ]
  },
    {
   "cell_type": "code",
   "metadata": {},
   "source": [
    "#Anton Cizmok work - \n",
    "import pandas as pd\n",
    "import numpy as np\n",
    "import pandas as pd\n",
    "import matplotlib.pylab as plt\n",
    "import seaborn as sns\n"
   ]
  }
