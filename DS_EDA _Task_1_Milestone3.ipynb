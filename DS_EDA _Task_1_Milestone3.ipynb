   {
 "cells": [
  {
    "cell_type": "markdown",
   "execution_count": 57,
   "id": "1de962b3-7443-4b92-a674-47baff1af7d2",
   "metadata": {},
   "outputs": [],
   "source": [
   "**Does a dynamic pricing tool significantly increase the hosts' listings power?**"
   ]
  }
    {
