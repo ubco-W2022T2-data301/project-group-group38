   {
 "cells": [
  {
    "cell_type": "markdown",
   "execution_count": 57,
   "id": "1de962b3-7443-4b92-a674-47baff1af7d2",
   "metadata": {},
   "outputs": [],
   "source": [
   "**Does a dynamic pricing tool significantly increase the hosts' listings power?**"
   ]
  },
  {
   "cell_type": "code",
   "execution_count": 57,
   "id": "1de962b3-7443-4b92-a674-47baff1af7d2",
   "metadata": {},
   "outputs": [],
   "source": [
    "#Drake Snitynsky \n",
    "import pandas as pd\n",
    "import numpy as np\n",
    "import pandas as pd\n",
    "import matplotlib.pylab as plt\n",
    "import seaborn as sns\n"
   ]
  },
  }
 ],
 "metadata": {
  "kernelspec": {
   "display_name": "Python 3 (ipykernel)",
   "language": "python",
   "name": "python3"
  },
  "language_info": {
   "codemirror_mode": {
    "name": "ipython",
    "version": 3
   },
   "file_extension": ".py",
   "mimetype": "text/x-python",
   "name": "python",
   "nbconvert_exporter": "python",
   "pygments_lexer": "ipython3",
   "version": "3.10.8"
  }
 },
 "nbformat": 4,
 "nbformat_minor": 5
}
