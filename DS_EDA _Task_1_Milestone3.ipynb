{
"cells": [
  {
   "cell_type": "markdown",
   "metadata": {},
   "source": [
    "**Does a dynamic pricing tool significantly increase the hosts' listings power?**"
   ]
  }
 ],
 "metadata": {},
 "nbformat": 4,
 "nbformat_minor": 2
},
{
 "cells": [
  {
    "cell_type": "markdown",
   "execution_count": 57,
   "id": "1de962b3-7443-4b92-a674-47baff1af7d2",
   "metadata": {},
   "outputs": [],
   "source": [
   "**What is the correlation between nights stayed and price paid during certain times of the year?**"
   ]
  },
  {
   "cell_type": "code",
   "execution_count": 57,
   "id": "1de962b3-7443-4b92-a674-47baff1af7d2",
   "metadata": {},
   "outputs": [],
   "source": [
    "#Anton Cizmok work - \n",
    "import pandas as pd\n",
    "import numpy as np\n",
    "import pandas as pd\n",
    "import matplotlib.pylab as plt\n",
    "import seaborn as sns\n"
   ]
  },
