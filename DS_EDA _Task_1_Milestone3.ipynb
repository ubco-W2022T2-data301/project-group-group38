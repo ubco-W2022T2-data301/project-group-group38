{
"cells": [
  {
   "cell_type": "markdown",
   "metadata": {},
   "source": [
    "**Does a dynamic pricing tool significantly increase the hosts' listings power?**\r\n",
   ]
  }
 ],
 "metadata": {},
 "nbformat": 4,
 "nbformat_minor": 2
}

