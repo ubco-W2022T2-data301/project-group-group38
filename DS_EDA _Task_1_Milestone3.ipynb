{
"cells": [
  {
   "cell_type": "markdown",
   "metadata": {},
   "source": [
    "#Drake Snitynsky"
   ]
  },
  {
   "cell_type": "markdown",
   "metadata": {},
   "source": [
    "## Research question/interests\r\n",
    "\r\n",
    "**Does a dynamic pricing tool significantly increase the hosts' listings power?**\r\n",
    "\r\n",
    "When I go on holiday I prefer the 'authentic' experience of the destination. Staying in a hotel with other guests just isn't the same as living in a private house with household amenities. I want to explore the Airbnb data from Hawaii to determine where tourists should book their stay based on location, price and amenities. My goal is to find the optimal location on the big island based on the tourists' preferences."
   ]
  }
 ],
 "metadata": {},
 "nbformat": 4,
 "nbformat_minor": 2
}
